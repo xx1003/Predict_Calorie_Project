{
 "cells": [
  {
   "cell_type": "code",
   "execution_count": 1,
   "id": "58cd6269-2a8d-47f5-b0a5-9f7157e222a0",
   "metadata": {},
   "outputs": [],
   "source": [
    "# 환경설정\n",
    "import matplotlib.pyplot as plt \n",
    "# 한글출력\n",
    "plt.rcParams['font.family'] = 'Malgun Gothic' #  Windows 'Malgun Gothic' \n",
    "plt.rcParams['axes.unicode_minus'] = False"
   ]
  },
  {
   "cell_type": "code",
   "execution_count": 87,
   "id": "794f36cc-28d3-4f07-9cbe-f1493fd83c1e",
   "metadata": {},
   "outputs": [],
   "source": [
    "# 라이브러리\n",
    "import seaborn as sns \n",
    "import numpy as np\n",
    "from sklearn.preprocessing import StandardScaler, OneHotEncoder\n",
    "from sklearn.model_selection import train_test_split\n",
    "from sklearn.linear_model import Perceptron\n",
    "from sklearn.metrics import accuracy_score, classification_report\n",
    "import pandas as pd \n",
    "import matplotlib.pyplot as plt\n",
    "from sklearn.metrics import mean_squared_error, r2_score"
   ]
  },
  {
   "cell_type": "code",
   "execution_count": 49,
   "id": "d64ecf00-507d-43a7-9d4d-5aa12a8b5391",
   "metadata": {},
   "outputs": [
    {
     "data": {
      "text/html": [
       "<div>\n",
       "<style scoped>\n",
       "    .dataframe tbody tr th:only-of-type {\n",
       "        vertical-align: middle;\n",
       "    }\n",
       "\n",
       "    .dataframe tbody tr th {\n",
       "        vertical-align: top;\n",
       "    }\n",
       "\n",
       "    .dataframe thead th {\n",
       "        text-align: right;\n",
       "    }\n",
       "</style>\n",
       "<table border=\"1\" class=\"dataframe\">\n",
       "  <thead>\n",
       "    <tr style=\"text-align: right;\">\n",
       "      <th></th>\n",
       "      <th>id</th>\n",
       "      <th>Sex</th>\n",
       "      <th>Age</th>\n",
       "      <th>Height</th>\n",
       "      <th>Weight</th>\n",
       "      <th>Duration</th>\n",
       "      <th>Heart_Rate</th>\n",
       "      <th>Body_Temp</th>\n",
       "      <th>Calories</th>\n",
       "    </tr>\n",
       "  </thead>\n",
       "  <tbody>\n",
       "    <tr>\n",
       "      <th>0</th>\n",
       "      <td>0</td>\n",
       "      <td>male</td>\n",
       "      <td>36</td>\n",
       "      <td>189.0</td>\n",
       "      <td>82.0</td>\n",
       "      <td>26.0</td>\n",
       "      <td>101.0</td>\n",
       "      <td>41.0</td>\n",
       "      <td>150.0</td>\n",
       "    </tr>\n",
       "  </tbody>\n",
       "</table>\n",
       "</div>"
      ],
      "text/plain": [
       "   id   Sex  Age  Height  Weight  Duration  Heart_Rate  Body_Temp  Calories\n",
       "0   0  male   36   189.0    82.0      26.0       101.0       41.0     150.0"
      ]
     },
     "execution_count": 49,
     "metadata": {},
     "output_type": "execute_result"
    }
   ],
   "source": [
    "# 데이터 가져오기\n",
    "import pandas as pd\n",
    "\n",
    "# 훈련 데이터\n",
    "train = pd.read_csv(\"train.csv\")\n",
    "train.head(1)"
   ]
  },
  {
   "cell_type": "code",
   "execution_count": 50,
   "id": "583163cb-0561-4387-aba4-89fa30c4c88b",
   "metadata": {},
   "outputs": [
    {
     "data": {
      "text/html": [
       "<div>\n",
       "<style scoped>\n",
       "    .dataframe tbody tr th:only-of-type {\n",
       "        vertical-align: middle;\n",
       "    }\n",
       "\n",
       "    .dataframe tbody tr th {\n",
       "        vertical-align: top;\n",
       "    }\n",
       "\n",
       "    .dataframe thead th {\n",
       "        text-align: right;\n",
       "    }\n",
       "</style>\n",
       "<table border=\"1\" class=\"dataframe\">\n",
       "  <thead>\n",
       "    <tr style=\"text-align: right;\">\n",
       "      <th></th>\n",
       "      <th>id</th>\n",
       "      <th>Sex</th>\n",
       "      <th>Age</th>\n",
       "      <th>Height</th>\n",
       "      <th>Weight</th>\n",
       "      <th>Duration</th>\n",
       "      <th>Heart_Rate</th>\n",
       "      <th>Body_Temp</th>\n",
       "    </tr>\n",
       "  </thead>\n",
       "  <tbody>\n",
       "    <tr>\n",
       "      <th>0</th>\n",
       "      <td>750000</td>\n",
       "      <td>male</td>\n",
       "      <td>45</td>\n",
       "      <td>177.0</td>\n",
       "      <td>81.0</td>\n",
       "      <td>7.0</td>\n",
       "      <td>87.0</td>\n",
       "      <td>39.8</td>\n",
       "    </tr>\n",
       "  </tbody>\n",
       "</table>\n",
       "</div>"
      ],
      "text/plain": [
       "       id   Sex  Age  Height  Weight  Duration  Heart_Rate  Body_Temp\n",
       "0  750000  male   45   177.0    81.0       7.0        87.0       39.8"
      ]
     },
     "execution_count": 50,
     "metadata": {},
     "output_type": "execute_result"
    }
   ],
   "source": [
    "# 테스트 데이터\n",
    "test = pd.read_csv(\"test.csv\")\n",
    "test.head(1)"
   ]
  },
  {
   "cell_type": "code",
   "execution_count": 51,
   "id": "0fb74613-903d-48e0-9ffa-4dd3241b3593",
   "metadata": {},
   "outputs": [
    {
     "data": {
      "text/plain": [
       "id            0\n",
       "Sex           0\n",
       "Age           0\n",
       "Height        0\n",
       "Weight        0\n",
       "Duration      0\n",
       "Heart_Rate    0\n",
       "Body_Temp     0\n",
       "Calories      0\n",
       "dtype: int64"
      ]
     },
     "execution_count": 51,
     "metadata": {},
     "output_type": "execute_result"
    }
   ],
   "source": [
    "# 결측치 확인\n",
    "train.isnull().sum()"
   ]
  },
  {
   "cell_type": "code",
   "execution_count": 52,
   "id": "554a3f3f-ab9f-4676-be5d-59aa8dcdf5a5",
   "metadata": {},
   "outputs": [
    {
     "data": {
      "text/plain": [
       "0         150.0\n",
       "1          34.0\n",
       "2          29.0\n",
       "3         140.0\n",
       "4         146.0\n",
       "          ...  \n",
       "749995    230.0\n",
       "749996     96.0\n",
       "749997    221.0\n",
       "749998    109.0\n",
       "749999    103.0\n",
       "Name: Calories, Length: 750000, dtype: float64"
      ]
     },
     "execution_count": 52,
     "metadata": {},
     "output_type": "execute_result"
    }
   ],
   "source": [
    "# 수치형 / 범주형 컬럼 나누기\n",
    "numeric_features = ['Age', 'Height', 'Weight', 'Duration', 'Heart_Rate', 'Body_Temp']\n",
    "category_features = ['Sex']\n",
    "\n",
    "# 독립변수, Target 설정\n",
    "X = train[numeric_features + category_features]\n",
    "X\n",
    "\n",
    "y = train['Calories']\n",
    "y"
   ]
  },
  {
   "cell_type": "code",
   "execution_count": 53,
   "id": "9472f171-1097-4c0b-b562-00d9ba10dfaa",
   "metadata": {},
   "outputs": [],
   "source": [
    "# 학습/검증 데이터 분할 함수\n",
    "def data_seperate(X_df, y_series):\n",
    "    num_bins = 20\n",
    "    y_binned = pd.cut(y, bins=num_bins, labels=False)\n",
    "    X_train, X_val, y_train, y_val = train_test_split(\n",
    "        X_df, y_series, test_size=0.2, random_state=42, stratify=y_binned)\n",
    "\n",
    "    return [X_train, X_val, y_train, y_val]"
   ]
  },
  {
   "cell_type": "code",
   "execution_count": 54,
   "id": "b4209e60-ce07-4e9e-b5b0-76c8fa2bba3f",
   "metadata": {},
   "outputs": [
    {
     "data": {
      "text/plain": [
       "((600000, 7), (150000, 7), (600000,), (150000,))"
      ]
     },
     "execution_count": 54,
     "metadata": {},
     "output_type": "execute_result"
    }
   ],
   "source": [
    "X_train, X_val, y_train, y_val = data_seperate(X, y)\n",
    "X_train.shape, X_val.shape, y_train.shape, y_val.shape"
   ]
  },
  {
   "cell_type": "code",
   "execution_count": 83,
   "id": "8bd27de7-4b8d-4b52-b1f2-1fa473f7f5f3",
   "metadata": {},
   "outputs": [],
   "source": [
    "# 범주형 데이터 인코딩 함수\n",
    "def category_encoding(category_data):\n",
    "    encoder = OneHotEncoder(sparse_output=False, handle_unknown='ignore')\n",
    "    return encoder.fit_transform(category_data)\n",
    "\n",
    "# 수치형 데이터 인코딩 함수\n",
    "def numeric_encoding(numeric_data):\n",
    "    scaler = StandardScaler()\n",
    "    return scaler.fit_transform(numeric_data)"
   ]
  },
  {
   "cell_type": "code",
   "execution_count": 63,
   "id": "960edbb0-586d-4ab1-b3e5-fa8e1bd7a106",
   "metadata": {},
   "outputs": [],
   "source": [
    "# 인코딩 데이터 합체 함수\n",
    "def data_concat(category_data, numeric_data):\n",
    "    train_combined = pd.concat([\n",
    "        pd.DataFrame(category_data, columns=['sex1','sex2']),\n",
    "        pd.DataFrame(numeric_data, columns=numeric_features)\n",
    "    ], axis=1)\n",
    "    return train_combined"
   ]
  },
  {
   "cell_type": "code",
   "execution_count": 57,
   "id": "8320cd69-187b-4ce7-88dd-6469549ac94c",
   "metadata": {},
   "outputs": [
    {
     "data": {
      "text/plain": [
       "532263    3.135494\n",
       "580340    2.484907\n",
       "101839    5.111988\n",
       "438420    4.762174\n",
       "449976    4.094345\n",
       "            ...   \n",
       "269955    4.143135\n",
       "502294    4.997212\n",
       "58461     3.367296\n",
       "647977    5.087596\n",
       "245703    2.890372\n",
       "Name: Calories, Length: 150000, dtype: float64"
      ]
     },
     "execution_count": 57,
     "metadata": {},
     "output_type": "execute_result"
    }
   ],
   "source": [
    "# Target 데이터 로그변환 : RMSLE 평가지표를 따라가기 위함\n",
    "y_train = np.log1p(y_train)\n",
    "y_train\n",
    "y_val = np.log1p(y_val)\n",
    "y_val"
   ]
  },
  {
   "cell_type": "code",
   "execution_count": 73,
   "id": "8a45ace6-f8aa-4769-af44-916f057d4629",
   "metadata": {},
   "outputs": [],
   "source": [
    "# 평가지표 함수\n",
    "def score_model(y_val_df, y_pred_df):\n",
    "    print(\"검증 데이터 성능:\")\n",
    "    print(f\"RMSLE: {np.sqrt(mean_squared_error(np.log1p(y_val_df), np.log1p(y_pred_df))):.10f}\")\n",
    "    print(f\"RMSE: {mean_squared_error(y_val_df, y_pred_df):.2f}\")\n",
    "    print(f\"R2 Score: {r2_score(y_val_df, y_pred_df):.2f}\")"
   ]
  },
  {
   "cell_type": "code",
   "execution_count": 88,
   "id": "15bcc357-07db-4def-b0ef-b9427e1c962c",
   "metadata": {},
   "outputs": [],
   "source": [
    "# 모델 라이브러리\n",
    "from xgboost import XGBRegressor\n",
    "from sklearn.ensemble import RandomForestRegressor\n",
    "from lightgbm import LGBMRegressor\n",
    "from catboost import CatBoostRegressor"
   ]
  },
  {
   "cell_type": "code",
   "execution_count": 84,
   "id": "69ff7bcf-892e-40ed-a29d-109d56573a89",
   "metadata": {},
   "outputs": [
    {
     "name": "stdout",
     "output_type": "stream",
     "text": [
      "xgboost\n",
      "검증 데이터 성능:\n",
      "RMSLE: 0.0209195477\n",
      "RMSE: 0.01\n",
      "R2 Score: 0.99\n",
      "\n",
      "random forest\n",
      "검증 데이터 성능:\n",
      "RMSLE: 0.0182104888\n",
      "RMSE: 0.00\n",
      "R2 Score: 1.00\n",
      "\n",
      "lightgbm\n",
      "[LightGBM] [Info] Auto-choosing col-wise multi-threading, the overhead of testing was 0.005488 seconds.\n",
      "You can set `force_col_wise=true` to remove the overhead.\n",
      "[LightGBM] [Info] Total Bins 360\n",
      "[LightGBM] [Info] Number of data points in the train set: 600000, number of used features: 8\n",
      "[LightGBM] [Info] Start training from score 4.141196\n",
      "검증 데이터 성능:\n",
      "RMSLE: 0.0182104888\n",
      "RMSE: 0.00\n",
      "R2 Score: 1.00\n",
      "\n",
      "catboost\n",
      "0:\tlearn: 0.9188701\ttest: 0.9199195\tbest: 0.9199195 (0)\ttotal: 17.6ms\tremaining: 17.5s\n",
      "100:\tlearn: 0.0733049\ttest: 0.0735699\tbest: 0.0735699 (100)\ttotal: 1.41s\tremaining: 12.5s\n",
      "200:\tlearn: 0.0638636\ttest: 0.0643988\tbest: 0.0643988 (200)\ttotal: 2.72s\tremaining: 10.8s\n",
      "300:\tlearn: 0.0613750\ttest: 0.0620603\tbest: 0.0620603 (300)\ttotal: 4.07s\tremaining: 9.44s\n",
      "400:\tlearn: 0.0602408\ttest: 0.0610857\tbest: 0.0610857 (400)\ttotal: 5.46s\tremaining: 8.15s\n",
      "500:\tlearn: 0.0596024\ttest: 0.0605926\tbest: 0.0605926 (500)\ttotal: 6.84s\tremaining: 6.81s\n",
      "600:\tlearn: 0.0591705\ttest: 0.0603235\tbest: 0.0603235 (600)\ttotal: 8.22s\tremaining: 5.46s\n",
      "700:\tlearn: 0.0588626\ttest: 0.0601421\tbest: 0.0601421 (700)\ttotal: 9.56s\tremaining: 4.08s\n",
      "800:\tlearn: 0.0586205\ttest: 0.0599948\tbest: 0.0599948 (800)\ttotal: 10.9s\tremaining: 2.71s\n",
      "900:\tlearn: 0.0584127\ttest: 0.0599016\tbest: 0.0599016 (900)\ttotal: 12.3s\tremaining: 1.35s\n",
      "999:\tlearn: 0.0582507\ttest: 0.0598414\tbest: 0.0598414 (999)\ttotal: 13.7s\tremaining: 0us\n",
      "\n",
      "bestTest = 0.05984137257\n",
      "bestIteration = 999\n",
      "\n",
      "검증 데이터 성능:\n",
      "RMSLE: 0.0171365461\n",
      "RMSE: 0.00\n",
      "R2 Score: 1.00\n"
     ]
    }
   ],
   "source": [
    "# 모델 사용 코드\n",
    "# 새 모델 추가하고 싶으면 여기만 수정\n",
    "# 독립변수 데이터 인코딩\n",
    "# 훈련 데이터\n",
    "X_train_category, X_val_category = category_encoding(X_train[category_features]), category_encoding(X_val[category_features])\n",
    "X_train_numeric, X_val_numeric = numeric_encoding(X_train[numeric_features]), numeric_encoding(X_val[numeric_features])\n",
    "\n",
    "X_train_combined = data_concat(X_train_category, X_train_numeric)\n",
    "X_val_combined = data_concat(X_val_category, X_val_numeric)\n",
    "\n",
    "# print(X_train_combined.head())\n",
    "# print(X_val_combined.head())\n",
    "\n",
    "# 모델 적용\n",
    "xgb_model = XGBRegressor(n_estimators=100, learning_rate=0.1, max_depth=6, random_state=42)\n",
    "rf_model = RandomForestRegressor(n_estimators=100, max_depth=None, random_state=42, n_jobs=-1)\n",
    "lgb_model = LGBMRegressor(n_estimators=100, learning_rate=0.1, max_depth=-1, random_state=42, n_jobs=-1)\n",
    "cat_model = CatBoostRegressor(\n",
    "    iterations=1000,\n",
    "    learning_rate=0.05,\n",
    "    depth=6,\n",
    "    l2_leaf_reg=10,\n",
    "    subsample=0.8,\n",
    "    random_strength=5,\n",
    "    loss_function='RMSE',\n",
    "    early_stopping_rounds=50,\n",
    "    verbose=100,\n",
    "    random_seed=42\n",
    ")\n",
    "\n",
    "# 모델 학습\n",
    "print(\"xgboost\")\n",
    "xgb_model.fit(X_train_combined, y_train)\n",
    "xgb_pred = xgb_model.predict(X_val_combined)\n",
    "score_model(y_val, xgb_pred)\n",
    "\n",
    "print(\"\\nrandom forest\")\n",
    "rf_model.fit(X_train_combined, y_train)\n",
    "rf_pred = rf_model.predict(X_val_combined)\n",
    "score_model(y_val, rf_pred)\n",
    "\n",
    "print(\"\\nlightgbm\")\n",
    "lgb_model.fit(X_train_combined, y_train)\n",
    "lgb_pred = rf_model.predict(X_val_combined)\n",
    "score_model(y_val, lgb_pred)\n",
    "\n",
    "print(\"\\ncatboost\")\n",
    "cat_model.fit(X_train_combined, y_train, eval_set=(X_val_combined, y_val))\n",
    "cat_pred = cat_model.predict(X_val_combined)\n",
    "score_model(y_val, cat_pred)"
   ]
  },
  {
   "cell_type": "code",
   "execution_count": 89,
   "id": "94e935b3-e10f-4d95-8bda-416ac03eaff0",
   "metadata": {},
   "outputs": [],
   "source": [
    "# 테스트 데이터 인코딩\n",
    "def test_predict(model):\n",
    "    test_category = category_encoding(test[category_features])\n",
    "    test_numeric = numeric_encoding(test[numeric_features])\n",
    "    test_combined = data_concat(test_category, test_numeric)\n",
    "    \n",
    "    test_pred = model.predict(test_combined)\n",
    "    test_pred = np.exp(test_pred)\n",
    "    return test_pred"
   ]
  },
  {
   "cell_type": "code",
   "execution_count": 90,
   "id": "0458b580-8cde-493c-8125-3197a571ad8b",
   "metadata": {},
   "outputs": [],
   "source": [
    "def submit_kaggle(test_pred_data):\n",
    "    # 제출 파일 생성, 공모전 제출 양식 준수\n",
    "    submission = pd.DataFrame({\n",
    "        'id' : test['id'],\n",
    "        'Calories' : test_pred_data\n",
    "    })\n",
    "    # 현재 날짜와 시간을 파일명에 포함\n",
    "    current_time = datetime.now().strftime(\"%Y%m%d_%H%M%S\")\n",
    "    submission.to_csv(f'submission_{current_time}.csv', index=False)"
   ]
  },
  {
   "cell_type": "code",
   "execution_count": 93,
   "id": "ab3c5441-6548-48b1-81f8-77edb6bc4b49",
   "metadata": {},
   "outputs": [],
   "source": [
    "submit_kaggle(test_predict(cat_model))"
   ]
  },
  {
   "cell_type": "code",
   "execution_count": 94,
   "id": "c67de3cd-406d-43d7-9e4c-4023b7d88557",
   "metadata": {},
   "outputs": [
    {
     "data": {
      "text/html": [
       "<div>\n",
       "<style scoped>\n",
       "    .dataframe tbody tr th:only-of-type {\n",
       "        vertical-align: middle;\n",
       "    }\n",
       "\n",
       "    .dataframe tbody tr th {\n",
       "        vertical-align: top;\n",
       "    }\n",
       "\n",
       "    .dataframe thead th {\n",
       "        text-align: right;\n",
       "    }\n",
       "</style>\n",
       "<table border=\"1\" class=\"dataframe\">\n",
       "  <thead>\n",
       "    <tr style=\"text-align: right;\">\n",
       "      <th></th>\n",
       "      <th>id</th>\n",
       "      <th>Sex</th>\n",
       "      <th>Age</th>\n",
       "      <th>Height</th>\n",
       "      <th>Weight</th>\n",
       "      <th>Duration</th>\n",
       "      <th>Heart_Rate</th>\n",
       "      <th>Body_Temp</th>\n",
       "      <th>Calories</th>\n",
       "    </tr>\n",
       "  </thead>\n",
       "  <tbody>\n",
       "    <tr>\n",
       "      <th>0</th>\n",
       "      <td>0</td>\n",
       "      <td>male</td>\n",
       "      <td>36</td>\n",
       "      <td>189.0</td>\n",
       "      <td>82.0</td>\n",
       "      <td>26.0</td>\n",
       "      <td>101.0</td>\n",
       "      <td>41.0</td>\n",
       "      <td>150.0</td>\n",
       "    </tr>\n",
       "    <tr>\n",
       "      <th>1</th>\n",
       "      <td>1</td>\n",
       "      <td>female</td>\n",
       "      <td>64</td>\n",
       "      <td>163.0</td>\n",
       "      <td>60.0</td>\n",
       "      <td>8.0</td>\n",
       "      <td>85.0</td>\n",
       "      <td>39.7</td>\n",
       "      <td>34.0</td>\n",
       "    </tr>\n",
       "    <tr>\n",
       "      <th>2</th>\n",
       "      <td>2</td>\n",
       "      <td>female</td>\n",
       "      <td>51</td>\n",
       "      <td>161.0</td>\n",
       "      <td>64.0</td>\n",
       "      <td>7.0</td>\n",
       "      <td>84.0</td>\n",
       "      <td>39.8</td>\n",
       "      <td>29.0</td>\n",
       "    </tr>\n",
       "    <tr>\n",
       "      <th>3</th>\n",
       "      <td>3</td>\n",
       "      <td>male</td>\n",
       "      <td>20</td>\n",
       "      <td>192.0</td>\n",
       "      <td>90.0</td>\n",
       "      <td>25.0</td>\n",
       "      <td>105.0</td>\n",
       "      <td>40.7</td>\n",
       "      <td>140.0</td>\n",
       "    </tr>\n",
       "    <tr>\n",
       "      <th>4</th>\n",
       "      <td>4</td>\n",
       "      <td>female</td>\n",
       "      <td>38</td>\n",
       "      <td>166.0</td>\n",
       "      <td>61.0</td>\n",
       "      <td>25.0</td>\n",
       "      <td>102.0</td>\n",
       "      <td>40.6</td>\n",
       "      <td>146.0</td>\n",
       "    </tr>\n",
       "  </tbody>\n",
       "</table>\n",
       "</div>"
      ],
      "text/plain": [
       "   id     Sex  Age  Height  Weight  Duration  Heart_Rate  Body_Temp  Calories\n",
       "0   0    male   36   189.0    82.0      26.0       101.0       41.0     150.0\n",
       "1   1  female   64   163.0    60.0       8.0        85.0       39.7      34.0\n",
       "2   2  female   51   161.0    64.0       7.0        84.0       39.8      29.0\n",
       "3   3    male   20   192.0    90.0      25.0       105.0       40.7     140.0\n",
       "4   4  female   38   166.0    61.0      25.0       102.0       40.6     146.0"
      ]
     },
     "execution_count": 94,
     "metadata": {},
     "output_type": "execute_result"
    }
   ],
   "source": [
    "train.head()"
   ]
  },
  {
   "cell_type": "code",
   "execution_count": 95,
   "id": "81c1eecf-0aaf-4392-b7ec-73c2347b97aa",
   "metadata": {},
   "outputs": [
    {
     "data": {
      "text/html": [
       "<div>\n",
       "<style scoped>\n",
       "    .dataframe tbody tr th:only-of-type {\n",
       "        vertical-align: middle;\n",
       "    }\n",
       "\n",
       "    .dataframe tbody tr th {\n",
       "        vertical-align: top;\n",
       "    }\n",
       "\n",
       "    .dataframe thead th {\n",
       "        text-align: right;\n",
       "    }\n",
       "</style>\n",
       "<table border=\"1\" class=\"dataframe\">\n",
       "  <thead>\n",
       "    <tr style=\"text-align: right;\">\n",
       "      <th></th>\n",
       "      <th>id</th>\n",
       "      <th>Sex</th>\n",
       "      <th>Age</th>\n",
       "      <th>Height</th>\n",
       "      <th>Weight</th>\n",
       "      <th>Duration</th>\n",
       "      <th>Heart_Rate</th>\n",
       "      <th>Body_Temp</th>\n",
       "    </tr>\n",
       "  </thead>\n",
       "  <tbody>\n",
       "    <tr>\n",
       "      <th>0</th>\n",
       "      <td>750000</td>\n",
       "      <td>male</td>\n",
       "      <td>45</td>\n",
       "      <td>177.0</td>\n",
       "      <td>81.0</td>\n",
       "      <td>7.0</td>\n",
       "      <td>87.0</td>\n",
       "      <td>39.8</td>\n",
       "    </tr>\n",
       "    <tr>\n",
       "      <th>1</th>\n",
       "      <td>750001</td>\n",
       "      <td>male</td>\n",
       "      <td>26</td>\n",
       "      <td>200.0</td>\n",
       "      <td>97.0</td>\n",
       "      <td>20.0</td>\n",
       "      <td>101.0</td>\n",
       "      <td>40.5</td>\n",
       "    </tr>\n",
       "    <tr>\n",
       "      <th>2</th>\n",
       "      <td>750002</td>\n",
       "      <td>female</td>\n",
       "      <td>29</td>\n",
       "      <td>188.0</td>\n",
       "      <td>85.0</td>\n",
       "      <td>16.0</td>\n",
       "      <td>102.0</td>\n",
       "      <td>40.4</td>\n",
       "    </tr>\n",
       "    <tr>\n",
       "      <th>3</th>\n",
       "      <td>750003</td>\n",
       "      <td>female</td>\n",
       "      <td>39</td>\n",
       "      <td>172.0</td>\n",
       "      <td>73.0</td>\n",
       "      <td>20.0</td>\n",
       "      <td>107.0</td>\n",
       "      <td>40.6</td>\n",
       "    </tr>\n",
       "    <tr>\n",
       "      <th>4</th>\n",
       "      <td>750004</td>\n",
       "      <td>female</td>\n",
       "      <td>30</td>\n",
       "      <td>173.0</td>\n",
       "      <td>67.0</td>\n",
       "      <td>16.0</td>\n",
       "      <td>94.0</td>\n",
       "      <td>40.5</td>\n",
       "    </tr>\n",
       "  </tbody>\n",
       "</table>\n",
       "</div>"
      ],
      "text/plain": [
       "       id     Sex  Age  Height  Weight  Duration  Heart_Rate  Body_Temp\n",
       "0  750000    male   45   177.0    81.0       7.0        87.0       39.8\n",
       "1  750001    male   26   200.0    97.0      20.0       101.0       40.5\n",
       "2  750002  female   29   188.0    85.0      16.0       102.0       40.4\n",
       "3  750003  female   39   172.0    73.0      20.0       107.0       40.6\n",
       "4  750004  female   30   173.0    67.0      16.0        94.0       40.5"
      ]
     },
     "execution_count": 95,
     "metadata": {},
     "output_type": "execute_result"
    }
   ],
   "source": [
    "test.head()"
   ]
  },
  {
   "cell_type": "code",
   "execution_count": 96,
   "id": "b4456957-7f52-4d56-b520-535408ff488f",
   "metadata": {},
   "outputs": [
    {
     "data": {
      "text/plain": [
       "((750000, 9), (250000, 8))"
      ]
     },
     "execution_count": 96,
     "metadata": {},
     "output_type": "execute_result"
    }
   ],
   "source": [
    "train.shape, test.shape"
   ]
  }
 ],
 "metadata": {
  "kernelspec": {
   "display_name": "Python 3 (ipykernel)",
   "language": "python",
   "name": "python3"
  },
  "language_info": {
   "codemirror_mode": {
    "name": "ipython",
    "version": 3
   },
   "file_extension": ".py",
   "mimetype": "text/x-python",
   "name": "python",
   "nbconvert_exporter": "python",
   "pygments_lexer": "ipython3",
   "version": "3.11.12"
  }
 },
 "nbformat": 4,
 "nbformat_minor": 5
}
